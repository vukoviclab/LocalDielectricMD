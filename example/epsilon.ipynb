{
 "cells": [
  {
   "cell_type": "code",
   "execution_count": 2,
   "id": "cc8a88c6",
   "metadata": {},
   "outputs": [],
   "source": [
    "import pandas as pd\n",
    "import numpy as np"
   ]
  },
  {
   "cell_type": "code",
   "execution_count": 3,
   "id": "fbd51499",
   "metadata": {},
   "outputs": [],
   "source": [
    "# Read the input file with volume of water\n",
    "df1 = pd.read_csv('/data1/anju/proj/dielectric/dipole/water-box/water-box/may-20-2023-popc/popc/popc-bilayer/control/water/volume/vol.csv')\n",
    "#df1"
   ]
  },
  {
   "cell_type": "code",
   "execution_count": 5,
   "id": "a4725db1",
   "metadata": {},
   "outputs": [
    {
     "data": {
      "text/plain": [
       "0    3.239756e-25\n",
       "Name: avgvol, dtype: float64"
      ]
     },
     "execution_count": 5,
     "metadata": {},
     "output_type": "execute_result"
    }
   ],
   "source": [
    "volume_water_m3 = df1['avgvol']\n",
    "volume_water_m3"
   ]
  },
  {
   "cell_type": "code",
   "execution_count": 6,
   "id": "243babb1",
   "metadata": {},
   "outputs": [],
   "source": [
    "#epsilon\n",
    "e_vacuum = 8.85419E-12\n",
    "kB = 1.38065E-23\n",
    "T = 310\n"
   ]
  },
  {
   "cell_type": "code",
   "execution_count": 7,
   "id": "21ca7b83",
   "metadata": {},
   "outputs": [],
   "source": [
    "#average fluctuation\n",
    "# Read the input file for containing dipole moment\n",
    "df3 = pd.read_csv('/data1/anju/proj/dielectric/dipole/water-box/water-box/may-20-2023-popc/popc/popc-bilayer/control/water/all_waters/z-all-waters-se-vs-time.csv', delim_whitespace=True)\n",
    "#df3"
   ]
  },
  {
   "cell_type": "code",
   "execution_count": 8,
   "id": "afa79397",
   "metadata": {},
   "outputs": [
    {
     "data": {
      "text/plain": [
       "8708.488463750798"
      ]
     },
     "execution_count": 8,
     "metadata": {},
     "output_type": "execute_result"
    }
   ],
   "source": [
    "avg_se = df3['se'].mean()\n",
    "avg_se\n"
   ]
  },
  {
   "cell_type": "code",
   "execution_count": 9,
   "id": "2d963408",
   "metadata": {},
   "outputs": [
    {
     "data": {
      "text/plain": [
       "2.2293730467202047e-54"
      ]
     },
     "execution_count": 9,
     "metadata": {},
     "output_type": "execute_result"
    }
   ],
   "source": [
    "avg_se_Cm = avg_se*1.6*1.6*(10**-58)\n",
    "avg_se_Cm"
   ]
  },
  {
   "cell_type": "code",
   "execution_count": 10,
   "id": "27f1c558",
   "metadata": {},
   "outputs": [
    {
     "data": {
      "text/plain": [
       "0    61.527817\n",
       "Name: avgvol, dtype: float64"
      ]
     },
     "execution_count": 10,
     "metadata": {},
     "output_type": "execute_result"
    }
   ],
   "source": [
    "epsilon = 1 + ((avg_se_Cm)/(3*e_vacuum*kB*T*volume_water_m3))\n",
    "epsilon"
   ]
  },
  {
   "cell_type": "code",
   "execution_count": null,
   "id": "b5d5989d",
   "metadata": {},
   "outputs": [],
   "source": []
  }
 ],
 "metadata": {
  "kernelspec": {
   "display_name": "Python 3 (ipykernel)",
   "language": "python",
   "name": "python3"
  },
  "language_info": {
   "codemirror_mode": {
    "name": "ipython",
    "version": 3
   },
   "file_extension": ".py",
   "mimetype": "text/x-python",
   "name": "python",
   "nbconvert_exporter": "python",
   "pygments_lexer": "ipython3",
   "version": "3.8.10"
  }
 },
 "nbformat": 4,
 "nbformat_minor": 5
}
